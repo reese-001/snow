{
 "cells": [
  {
   "cell_type": "code",
   "execution_count": 1,
   "metadata": {},
   "outputs": [],
   "source": [
    "import pandas as pd\n",
    "import requests, json\n",
    "import config.config as config\n",
    "\n",
    "from datetime import datetime, timedelta\n",
    "from requests.auth import HTTPBasicAuth\n",
    "\n",
    "api_param = config.configuration(section = 'api')"
   ]
  },
  {
   "cell_type": "code",
   "execution_count": 3,
   "metadata": {},
   "outputs": [],
   "source": [
    "password = api_param['password']\n",
    "user_name = api_param['user']\n",
    "url = api_param['url']\n",
    "endpoint = api_param['endpoint']\n",
    "\n",
    "def day_string_to_dt(day):\n",
    "    return datetime.strptime(day, '%Y-%m-%d')\n",
    "\n",
    "def day_plus_one(start_day):\n",
    "    dt = day_string_to_dt(start_day) + timedelta(days=1)\n",
    "    return dt.strftime(\"%Y-%m-%d\")\n",
    "\n"
   ]
  },
  {
   "cell_type": "code",
   "execution_count": null,
   "metadata": {},
   "outputs": [],
   "source": [
    "df = []\n",
    "\n",
    "def get_incidents(current_day, end_day, start_hour = 0, counter = 0, hour_interval = 8):\n",
    "    print(f\"Starting Interval: {counter}\")\n",
    "    query_string = f\"opened_atBETWEENjavascript:gs.dateGenerate('{current_day}','{start_hour}:00:00')@javascript:gs.dateGenerate('{current_day}','{start_hour+hour_interval-1}:59:59')\"\n",
    "    payload = {'start': 0, 'count': 2000, 'encoded_query': query_string}\n",
    "    json_data = requests.post(url + endpoint, data=json.dumps(payload), auth=HTTPBasicAuth(user_name, password)).json()\n",
    "    df.append(pd.DataFrame(json_data['result']['records']))\n",
    "    print(f\"  Count of interval {counter}: {len(df[counter])}\")\n",
    "    if start_hour + hour_interval < 24:\n",
    "        get_incidents(current_day, end_day, start_hour + hour_interval, counter + 1, hour_interval)\n",
    "    elif day_string_to_dt(end_day) >= day_string_to_dt(day_plus_one(current_day)):\n",
    "        get_incidents(day_plus_one(current_day), end_day, 0, counter + 1, hour_interval)\n",
    "\n",
    " \n",
    "get_incidents(current_day = '2022-10-15', end_day = '2022-10-26')       \n",
    "df = pd.concat(df, axis=0, ignore_index=True)\n",
    "\n",
    "df['assignment_group_name'] = [x['name'] for x in df.assignment_group]\n"
   ]
  },
  {
   "cell_type": "code",
   "execution_count": null,
   "metadata": {},
   "outputs": [],
   "source": [
    "from matplotlib import pyplot as plt\n",
    "from matplotlib.pyplot import figure\n",
    "\n",
    "\n",
    "import numpy as np\n",
    "from collections import Counter\n",
    "\n",
    "from pyparsing import White\n",
    "\n",
    "counts = Counter(df.assignment_group_name)\n",
    "labels = []\n",
    "sizes = []\n",
    "\n",
    "for x, y in counts.items():\n",
    "    if y > 70:\n",
    "        labels.append(str(x) + ': ' + str(int(y/len(df) * 100)) + ' out of 100')\n",
    "        sizes.append(y)\n",
    "        \n",
    "        \n",
    "plt.figure(figsize=(10,10))\n",
    "plt.pie(sizes, labels=labels)\n",
    "\n",
    "plt.axis('equal')\n",
    "plt.show()\n"
   ]
  },
  {
   "cell_type": "code",
   "execution_count": null,
   "metadata": {},
   "outputs": [],
   "source": []
  }
 ],
 "metadata": {
  "kernelspec": {
   "display_name": "Python 3.9.12 ('base')",
   "language": "python",
   "name": "python3"
  },
  "language_info": {
   "codemirror_mode": {
    "name": "ipython",
    "version": 3
   },
   "file_extension": ".py",
   "mimetype": "text/x-python",
   "name": "python",
   "nbconvert_exporter": "python",
   "pygments_lexer": "ipython3",
   "version": "3.9.12"
  },
  "orig_nbformat": 4,
  "vscode": {
   "interpreter": {
    "hash": "944003c3ff25d81bb7797b1c6231b5eb05b4086b04688722e945f2788091b4e0"
   }
  }
 },
 "nbformat": 4,
 "nbformat_minor": 2
}
